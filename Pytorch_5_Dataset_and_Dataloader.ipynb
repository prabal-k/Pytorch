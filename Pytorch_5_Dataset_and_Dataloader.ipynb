{
  "nbformat": 4,
  "nbformat_minor": 0,
  "metadata": {
    "colab": {
      "provenance": []
    },
    "kernelspec": {
      "name": "python3",
      "display_name": "Python 3"
    },
    "language_info": {
      "name": "python"
    }
  },
  "cells": [
    {
      "cell_type": "markdown",
      "source": [
        "# Task -1 :\n",
        "\n",
        "## Create a custom data set and divide into batches"
      ],
      "metadata": {
        "id": "4YXK-sq6Tb2h"
      }
    },
    {
      "cell_type": "code",
      "source": [
        "from sklearn.datasets import make_classification\n",
        "import torch"
      ],
      "metadata": {
        "id": "e0Ny5i9pTi-_"
      },
      "execution_count": 1,
      "outputs": []
    },
    {
      "cell_type": "code",
      "source": [
        "# Step 1: Create a synthetic classification dataset using sklearn\n",
        "X, y = make_classification(\n",
        "    n_samples=10,       # Number of samples\n",
        "    n_features=2,       # Number of features\n",
        "    n_informative=2,    # Number of informative features\n",
        "    n_redundant=0,      # Number of redundant features\n",
        "    n_classes=2,        # Number of classes\n",
        "    random_state=42     # For reproducibility\n",
        ")"
      ],
      "metadata": {
        "id": "QnFIOekSTlW6"
      },
      "execution_count": 3,
      "outputs": []
    },
    {
      "cell_type": "code",
      "execution_count": 7,
      "metadata": {
        "colab": {
          "base_uri": "https://localhost:8080/"
        },
        "id": "YDjctSHTO0Q4",
        "outputId": "2f2724b9-3326-4b92-930a-f3fc8e922222"
      },
      "outputs": [
        {
          "output_type": "execute_result",
          "data": {
            "text/plain": [
              "array([[ 1.06833894, -0.97007347],\n",
              "       [-1.14021544, -0.83879234],\n",
              "       [-2.8953973 ,  1.97686236],\n",
              "       [-0.72063436, -0.96059253],\n",
              "       [-1.96287438, -0.99225135],\n",
              "       [-0.9382051 , -0.54304815],\n",
              "       [ 1.72725924, -1.18582677],\n",
              "       [ 1.77736657,  1.51157598],\n",
              "       [ 1.89969252,  0.83444483],\n",
              "       [-0.58723065, -1.97171753]])"
            ]
          },
          "metadata": {},
          "execution_count": 7
        }
      ],
      "source": [
        "X"
      ]
    },
    {
      "cell_type": "code",
      "source": [
        "y"
      ],
      "metadata": {
        "colab": {
          "base_uri": "https://localhost:8080/"
        },
        "id": "l7CJTi_dTxuc",
        "outputId": "723f0db1-b1b8-4b86-b436-4ffa49845604"
      },
      "execution_count": 8,
      "outputs": [
        {
          "output_type": "execute_result",
          "data": {
            "text/plain": [
              "array([1, 0, 0, 0, 0, 1, 1, 1, 1, 0])"
            ]
          },
          "metadata": {},
          "execution_count": 8
        }
      ]
    },
    {
      "cell_type": "code",
      "source": [
        "# Convert the array data to PyTorch tensors\n",
        "X = torch.tensor(X,dtype=torch.float)\n",
        "y = torch.tensor(y,dtype=torch.long)"
      ],
      "metadata": {
        "id": "vrygBB-eTyHl"
      },
      "execution_count": 9,
      "outputs": []
    },
    {
      "cell_type": "code",
      "source": [
        "X"
      ],
      "metadata": {
        "colab": {
          "base_uri": "https://localhost:8080/"
        },
        "id": "J_-yw7EiUBHZ",
        "outputId": "13600c5c-9f0d-46e7-d591-394cf3d30c8f"
      },
      "execution_count": 10,
      "outputs": [
        {
          "output_type": "execute_result",
          "data": {
            "text/plain": [
              "tensor([[ 1.0683, -0.9701],\n",
              "        [-1.1402, -0.8388],\n",
              "        [-2.8954,  1.9769],\n",
              "        [-0.7206, -0.9606],\n",
              "        [-1.9629, -0.9923],\n",
              "        [-0.9382, -0.5430],\n",
              "        [ 1.7273, -1.1858],\n",
              "        [ 1.7774,  1.5116],\n",
              "        [ 1.8997,  0.8344],\n",
              "        [-0.5872, -1.9717]])"
            ]
          },
          "metadata": {},
          "execution_count": 10
        }
      ]
    },
    {
      "cell_type": "markdown",
      "source": [
        "# Dataset and Dataloader class"
      ],
      "metadata": {
        "id": "d_uzoWQKUD8q"
      }
    },
    {
      "cell_type": "code",
      "source": [
        "from torch.utils.data import Dataset, DataLoader"
      ],
      "metadata": {
        "id": "FIboYvQzUOAo"
      },
      "execution_count": 11,
      "outputs": []
    },
    {
      "cell_type": "markdown",
      "source": [
        "### Dataset class"
      ],
      "metadata": {
        "id": "K85nXDFfW1Sv"
      }
    },
    {
      "cell_type": "code",
      "source": [
        "# Creating a custom dataset class\n",
        "\n",
        "class customdataset(Dataset): # Inherits the Dataset class\n",
        "\n",
        "  def __init__(self,features,labels): # Constructor that defines how data should be loaded (Here features= x/inputs and labels=y/outputs)\n",
        "    self.features = features\n",
        "    self.labels = labels\n",
        "\n",
        "  def __len__(self):\n",
        "    return self.features.shape[0]  #Returns the total number of samples/rows in the dataset\n",
        "\n",
        "  def __getitem__(self,index):\n",
        "    return self.features[index],self.labels[index]\n"
      ],
      "metadata": {
        "id": "J_3ULVYlUcEr"
      },
      "execution_count": 12,
      "outputs": []
    },
    {
      "cell_type": "code",
      "source": [
        "# Creating a object of the customdataset class\n",
        "dataset = customdataset(X,y)"
      ],
      "metadata": {
        "id": "X877XGAvV5w2"
      },
      "execution_count": 14,
      "outputs": []
    },
    {
      "cell_type": "code",
      "source": [
        "len(dataset)"
      ],
      "metadata": {
        "colab": {
          "base_uri": "https://localhost:8080/"
        },
        "id": "IBXTvEcaWLuF",
        "outputId": "f62fe1e9-bd84-4368-d2e7-4594f21c5747"
      },
      "execution_count": 16,
      "outputs": [
        {
          "output_type": "execute_result",
          "data": {
            "text/plain": [
              "10"
            ]
          },
          "metadata": {},
          "execution_count": 16
        }
      ]
    },
    {
      "cell_type": "code",
      "source": [
        "# To access each data points/samples\n",
        "dataset[0]  #has both features and labels"
      ],
      "metadata": {
        "colab": {
          "base_uri": "https://localhost:8080/"
        },
        "id": "P2uCnMOtWO5y",
        "outputId": "ccb17f38-f2e2-455d-cabc-cdd47fd29180"
      },
      "execution_count": 23,
      "outputs": [
        {
          "output_type": "execute_result",
          "data": {
            "text/plain": [
              "(tensor([ 1.0683, -0.9701]), tensor(1))"
            ]
          },
          "metadata": {},
          "execution_count": 23
        }
      ]
    },
    {
      "cell_type": "markdown",
      "source": [
        "### Dataloader class\n",
        "\n",
        "-> data loader class object is iterable , i.e we can loop through it to access batches"
      ],
      "metadata": {
        "id": "Q3Jhn_ihW4bq"
      }
    },
    {
      "cell_type": "code",
      "source": [],
      "metadata": {
        "id": "PbkRoAg1ZYH_"
      },
      "execution_count": null,
      "outputs": []
    },
    {
      "cell_type": "code",
      "source": [
        "# No need to create a custom class fro dataloader , just create a object\n",
        "# It takes 3 arguments (dataset_class_object , batch_size , whether_to_perform_suffle_or_not)\n",
        "dataloader = DataLoader(dataset,batch_size=2,shuffle=True,num_workers=2) # Shuffle=true , randomly selects the order of index\n",
        "\n",
        "# num_wrokers for parallelization of formation of batches/chunks"
      ],
      "metadata": {
        "id": "2PzRdItQW6cW"
      },
      "execution_count": 28,
      "outputs": []
    },
    {
      "cell_type": "code",
      "source": [
        "# To access the batch_features and batch_labels\n",
        "\n",
        "for batch_features,batch_labels in dataloader:\n",
        "  print(batch_features)\n",
        "  print(batch_labels)\n",
        "  print(\"-\"*30)\n",
        "\n",
        "# total number of batch is (total_datapoints / batch_size = 10 / 2 =5 )and  Each batch will have 2 data points(since batch_size=2)"
      ],
      "metadata": {
        "colab": {
          "base_uri": "https://localhost:8080/"
        },
        "id": "utSIgLV4XxFn",
        "outputId": "d03c27ee-41ca-4a04-9180-1f4d98f02ab0"
      },
      "execution_count": 27,
      "outputs": [
        {
          "output_type": "stream",
          "name": "stdout",
          "text": [
            "tensor([[ 1.0683, -0.9701],\n",
            "        [ 1.8997,  0.8344]])\n",
            "tensor([1, 1])\n",
            "------------------------------\n",
            "tensor([[-1.9629, -0.9923],\n",
            "        [-0.9382, -0.5430]])\n",
            "tensor([0, 1])\n",
            "------------------------------\n",
            "tensor([[-2.8954,  1.9769],\n",
            "        [-1.1402, -0.8388]])\n",
            "tensor([0, 0])\n",
            "------------------------------\n",
            "tensor([[-0.5872, -1.9717],\n",
            "        [ 1.7774,  1.5116]])\n",
            "tensor([0, 1])\n",
            "------------------------------\n",
            "tensor([[ 1.7273, -1.1858],\n",
            "        [-0.7206, -0.9606]])\n",
            "tensor([1, 0])\n",
            "------------------------------\n"
          ]
        }
      ]
    },
    {
      "cell_type": "code",
      "source": [],
      "metadata": {
        "id": "ftJHrW-cmnX1"
      },
      "execution_count": null,
      "outputs": []
    },
    {
      "cell_type": "markdown",
      "source": [
        "# Task - 2 : Implement dataset and dataloader class in existing brest cancer dataset from previous lessons"
      ],
      "metadata": {
        "id": "oVijNlT4mnqe"
      }
    },
    {
      "cell_type": "code",
      "source": [
        "import numpy as np\n",
        "import pandas as pd\n",
        "import torch\n",
        "from sklearn.model_selection import train_test_split\n",
        "from sklearn.preprocessing import StandardScaler\n",
        "from sklearn.preprocessing import LabelEncoder\n",
        "import torch.nn as nn\n"
      ],
      "metadata": {
        "id": "Is6oOFm8m-Oy"
      },
      "execution_count": 47,
      "outputs": []
    },
    {
      "cell_type": "code",
      "source": [],
      "metadata": {
        "id": "6OB2yvtoqyy8"
      },
      "execution_count": null,
      "outputs": []
    },
    {
      "cell_type": "code",
      "source": [
        "df = pd.read_csv('https://raw.githubusercontent.com/gscdit/Breast-Cancer-Detection/refs/heads/master/data.csv')\n",
        "df.head()"
      ],
      "metadata": {
        "colab": {
          "base_uri": "https://localhost:8080/",
          "height": 273
        },
        "id": "SpSGoh-onAES",
        "outputId": "0dc749b3-b8c2-4bba-d821-118863c8f608"
      },
      "execution_count": 30,
      "outputs": [
        {
          "output_type": "execute_result",
          "data": {
            "text/plain": [
              "         id diagnosis  radius_mean  texture_mean  perimeter_mean  area_mean  \\\n",
              "0    842302         M        17.99         10.38          122.80     1001.0   \n",
              "1    842517         M        20.57         17.77          132.90     1326.0   \n",
              "2  84300903         M        19.69         21.25          130.00     1203.0   \n",
              "3  84348301         M        11.42         20.38           77.58      386.1   \n",
              "4  84358402         M        20.29         14.34          135.10     1297.0   \n",
              "\n",
              "   smoothness_mean  compactness_mean  concavity_mean  concave points_mean  \\\n",
              "0          0.11840           0.27760          0.3001              0.14710   \n",
              "1          0.08474           0.07864          0.0869              0.07017   \n",
              "2          0.10960           0.15990          0.1974              0.12790   \n",
              "3          0.14250           0.28390          0.2414              0.10520   \n",
              "4          0.10030           0.13280          0.1980              0.10430   \n",
              "\n",
              "   ...  texture_worst  perimeter_worst  area_worst  smoothness_worst  \\\n",
              "0  ...          17.33           184.60      2019.0            0.1622   \n",
              "1  ...          23.41           158.80      1956.0            0.1238   \n",
              "2  ...          25.53           152.50      1709.0            0.1444   \n",
              "3  ...          26.50            98.87       567.7            0.2098   \n",
              "4  ...          16.67           152.20      1575.0            0.1374   \n",
              "\n",
              "   compactness_worst  concavity_worst  concave points_worst  symmetry_worst  \\\n",
              "0             0.6656           0.7119                0.2654          0.4601   \n",
              "1             0.1866           0.2416                0.1860          0.2750   \n",
              "2             0.4245           0.4504                0.2430          0.3613   \n",
              "3             0.8663           0.6869                0.2575          0.6638   \n",
              "4             0.2050           0.4000                0.1625          0.2364   \n",
              "\n",
              "   fractal_dimension_worst  Unnamed: 32  \n",
              "0                  0.11890          NaN  \n",
              "1                  0.08902          NaN  \n",
              "2                  0.08758          NaN  \n",
              "3                  0.17300          NaN  \n",
              "4                  0.07678          NaN  \n",
              "\n",
              "[5 rows x 33 columns]"
            ],
            "text/html": [
              "\n",
              "  <div id=\"df-dc9d5375-d112-4c34-b408-7b7642abee8d\" class=\"colab-df-container\">\n",
              "    <div>\n",
              "<style scoped>\n",
              "    .dataframe tbody tr th:only-of-type {\n",
              "        vertical-align: middle;\n",
              "    }\n",
              "\n",
              "    .dataframe tbody tr th {\n",
              "        vertical-align: top;\n",
              "    }\n",
              "\n",
              "    .dataframe thead th {\n",
              "        text-align: right;\n",
              "    }\n",
              "</style>\n",
              "<table border=\"1\" class=\"dataframe\">\n",
              "  <thead>\n",
              "    <tr style=\"text-align: right;\">\n",
              "      <th></th>\n",
              "      <th>id</th>\n",
              "      <th>diagnosis</th>\n",
              "      <th>radius_mean</th>\n",
              "      <th>texture_mean</th>\n",
              "      <th>perimeter_mean</th>\n",
              "      <th>area_mean</th>\n",
              "      <th>smoothness_mean</th>\n",
              "      <th>compactness_mean</th>\n",
              "      <th>concavity_mean</th>\n",
              "      <th>concave points_mean</th>\n",
              "      <th>...</th>\n",
              "      <th>texture_worst</th>\n",
              "      <th>perimeter_worst</th>\n",
              "      <th>area_worst</th>\n",
              "      <th>smoothness_worst</th>\n",
              "      <th>compactness_worst</th>\n",
              "      <th>concavity_worst</th>\n",
              "      <th>concave points_worst</th>\n",
              "      <th>symmetry_worst</th>\n",
              "      <th>fractal_dimension_worst</th>\n",
              "      <th>Unnamed: 32</th>\n",
              "    </tr>\n",
              "  </thead>\n",
              "  <tbody>\n",
              "    <tr>\n",
              "      <th>0</th>\n",
              "      <td>842302</td>\n",
              "      <td>M</td>\n",
              "      <td>17.99</td>\n",
              "      <td>10.38</td>\n",
              "      <td>122.80</td>\n",
              "      <td>1001.0</td>\n",
              "      <td>0.11840</td>\n",
              "      <td>0.27760</td>\n",
              "      <td>0.3001</td>\n",
              "      <td>0.14710</td>\n",
              "      <td>...</td>\n",
              "      <td>17.33</td>\n",
              "      <td>184.60</td>\n",
              "      <td>2019.0</td>\n",
              "      <td>0.1622</td>\n",
              "      <td>0.6656</td>\n",
              "      <td>0.7119</td>\n",
              "      <td>0.2654</td>\n",
              "      <td>0.4601</td>\n",
              "      <td>0.11890</td>\n",
              "      <td>NaN</td>\n",
              "    </tr>\n",
              "    <tr>\n",
              "      <th>1</th>\n",
              "      <td>842517</td>\n",
              "      <td>M</td>\n",
              "      <td>20.57</td>\n",
              "      <td>17.77</td>\n",
              "      <td>132.90</td>\n",
              "      <td>1326.0</td>\n",
              "      <td>0.08474</td>\n",
              "      <td>0.07864</td>\n",
              "      <td>0.0869</td>\n",
              "      <td>0.07017</td>\n",
              "      <td>...</td>\n",
              "      <td>23.41</td>\n",
              "      <td>158.80</td>\n",
              "      <td>1956.0</td>\n",
              "      <td>0.1238</td>\n",
              "      <td>0.1866</td>\n",
              "      <td>0.2416</td>\n",
              "      <td>0.1860</td>\n",
              "      <td>0.2750</td>\n",
              "      <td>0.08902</td>\n",
              "      <td>NaN</td>\n",
              "    </tr>\n",
              "    <tr>\n",
              "      <th>2</th>\n",
              "      <td>84300903</td>\n",
              "      <td>M</td>\n",
              "      <td>19.69</td>\n",
              "      <td>21.25</td>\n",
              "      <td>130.00</td>\n",
              "      <td>1203.0</td>\n",
              "      <td>0.10960</td>\n",
              "      <td>0.15990</td>\n",
              "      <td>0.1974</td>\n",
              "      <td>0.12790</td>\n",
              "      <td>...</td>\n",
              "      <td>25.53</td>\n",
              "      <td>152.50</td>\n",
              "      <td>1709.0</td>\n",
              "      <td>0.1444</td>\n",
              "      <td>0.4245</td>\n",
              "      <td>0.4504</td>\n",
              "      <td>0.2430</td>\n",
              "      <td>0.3613</td>\n",
              "      <td>0.08758</td>\n",
              "      <td>NaN</td>\n",
              "    </tr>\n",
              "    <tr>\n",
              "      <th>3</th>\n",
              "      <td>84348301</td>\n",
              "      <td>M</td>\n",
              "      <td>11.42</td>\n",
              "      <td>20.38</td>\n",
              "      <td>77.58</td>\n",
              "      <td>386.1</td>\n",
              "      <td>0.14250</td>\n",
              "      <td>0.28390</td>\n",
              "      <td>0.2414</td>\n",
              "      <td>0.10520</td>\n",
              "      <td>...</td>\n",
              "      <td>26.50</td>\n",
              "      <td>98.87</td>\n",
              "      <td>567.7</td>\n",
              "      <td>0.2098</td>\n",
              "      <td>0.8663</td>\n",
              "      <td>0.6869</td>\n",
              "      <td>0.2575</td>\n",
              "      <td>0.6638</td>\n",
              "      <td>0.17300</td>\n",
              "      <td>NaN</td>\n",
              "    </tr>\n",
              "    <tr>\n",
              "      <th>4</th>\n",
              "      <td>84358402</td>\n",
              "      <td>M</td>\n",
              "      <td>20.29</td>\n",
              "      <td>14.34</td>\n",
              "      <td>135.10</td>\n",
              "      <td>1297.0</td>\n",
              "      <td>0.10030</td>\n",
              "      <td>0.13280</td>\n",
              "      <td>0.1980</td>\n",
              "      <td>0.10430</td>\n",
              "      <td>...</td>\n",
              "      <td>16.67</td>\n",
              "      <td>152.20</td>\n",
              "      <td>1575.0</td>\n",
              "      <td>0.1374</td>\n",
              "      <td>0.2050</td>\n",
              "      <td>0.4000</td>\n",
              "      <td>0.1625</td>\n",
              "      <td>0.2364</td>\n",
              "      <td>0.07678</td>\n",
              "      <td>NaN</td>\n",
              "    </tr>\n",
              "  </tbody>\n",
              "</table>\n",
              "<p>5 rows × 33 columns</p>\n",
              "</div>\n",
              "    <div class=\"colab-df-buttons\">\n",
              "\n",
              "  <div class=\"colab-df-container\">\n",
              "    <button class=\"colab-df-convert\" onclick=\"convertToInteractive('df-dc9d5375-d112-4c34-b408-7b7642abee8d')\"\n",
              "            title=\"Convert this dataframe to an interactive table.\"\n",
              "            style=\"display:none;\">\n",
              "\n",
              "  <svg xmlns=\"http://www.w3.org/2000/svg\" height=\"24px\" viewBox=\"0 -960 960 960\">\n",
              "    <path d=\"M120-120v-720h720v720H120Zm60-500h600v-160H180v160Zm220 220h160v-160H400v160Zm0 220h160v-160H400v160ZM180-400h160v-160H180v160Zm440 0h160v-160H620v160ZM180-180h160v-160H180v160Zm440 0h160v-160H620v160Z\"/>\n",
              "  </svg>\n",
              "    </button>\n",
              "\n",
              "  <style>\n",
              "    .colab-df-container {\n",
              "      display:flex;\n",
              "      gap: 12px;\n",
              "    }\n",
              "\n",
              "    .colab-df-convert {\n",
              "      background-color: #E8F0FE;\n",
              "      border: none;\n",
              "      border-radius: 50%;\n",
              "      cursor: pointer;\n",
              "      display: none;\n",
              "      fill: #1967D2;\n",
              "      height: 32px;\n",
              "      padding: 0 0 0 0;\n",
              "      width: 32px;\n",
              "    }\n",
              "\n",
              "    .colab-df-convert:hover {\n",
              "      background-color: #E2EBFA;\n",
              "      box-shadow: 0px 1px 2px rgba(60, 64, 67, 0.3), 0px 1px 3px 1px rgba(60, 64, 67, 0.15);\n",
              "      fill: #174EA6;\n",
              "    }\n",
              "\n",
              "    .colab-df-buttons div {\n",
              "      margin-bottom: 4px;\n",
              "    }\n",
              "\n",
              "    [theme=dark] .colab-df-convert {\n",
              "      background-color: #3B4455;\n",
              "      fill: #D2E3FC;\n",
              "    }\n",
              "\n",
              "    [theme=dark] .colab-df-convert:hover {\n",
              "      background-color: #434B5C;\n",
              "      box-shadow: 0px 1px 3px 1px rgba(0, 0, 0, 0.15);\n",
              "      filter: drop-shadow(0px 1px 2px rgba(0, 0, 0, 0.3));\n",
              "      fill: #FFFFFF;\n",
              "    }\n",
              "  </style>\n",
              "\n",
              "    <script>\n",
              "      const buttonEl =\n",
              "        document.querySelector('#df-dc9d5375-d112-4c34-b408-7b7642abee8d button.colab-df-convert');\n",
              "      buttonEl.style.display =\n",
              "        google.colab.kernel.accessAllowed ? 'block' : 'none';\n",
              "\n",
              "      async function convertToInteractive(key) {\n",
              "        const element = document.querySelector('#df-dc9d5375-d112-4c34-b408-7b7642abee8d');\n",
              "        const dataTable =\n",
              "          await google.colab.kernel.invokeFunction('convertToInteractive',\n",
              "                                                    [key], {});\n",
              "        if (!dataTable) return;\n",
              "\n",
              "        const docLinkHtml = 'Like what you see? Visit the ' +\n",
              "          '<a target=\"_blank\" href=https://colab.research.google.com/notebooks/data_table.ipynb>data table notebook</a>'\n",
              "          + ' to learn more about interactive tables.';\n",
              "        element.innerHTML = '';\n",
              "        dataTable['output_type'] = 'display_data';\n",
              "        await google.colab.output.renderOutput(dataTable, element);\n",
              "        const docLink = document.createElement('div');\n",
              "        docLink.innerHTML = docLinkHtml;\n",
              "        element.appendChild(docLink);\n",
              "      }\n",
              "    </script>\n",
              "  </div>\n",
              "\n",
              "\n",
              "<div id=\"df-dc2e766a-6917-4726-92bd-071ff4ce8a58\">\n",
              "  <button class=\"colab-df-quickchart\" onclick=\"quickchart('df-dc2e766a-6917-4726-92bd-071ff4ce8a58')\"\n",
              "            title=\"Suggest charts\"\n",
              "            style=\"display:none;\">\n",
              "\n",
              "<svg xmlns=\"http://www.w3.org/2000/svg\" height=\"24px\"viewBox=\"0 0 24 24\"\n",
              "     width=\"24px\">\n",
              "    <g>\n",
              "        <path d=\"M19 3H5c-1.1 0-2 .9-2 2v14c0 1.1.9 2 2 2h14c1.1 0 2-.9 2-2V5c0-1.1-.9-2-2-2zM9 17H7v-7h2v7zm4 0h-2V7h2v10zm4 0h-2v-4h2v4z\"/>\n",
              "    </g>\n",
              "</svg>\n",
              "  </button>\n",
              "\n",
              "<style>\n",
              "  .colab-df-quickchart {\n",
              "      --bg-color: #E8F0FE;\n",
              "      --fill-color: #1967D2;\n",
              "      --hover-bg-color: #E2EBFA;\n",
              "      --hover-fill-color: #174EA6;\n",
              "      --disabled-fill-color: #AAA;\n",
              "      --disabled-bg-color: #DDD;\n",
              "  }\n",
              "\n",
              "  [theme=dark] .colab-df-quickchart {\n",
              "      --bg-color: #3B4455;\n",
              "      --fill-color: #D2E3FC;\n",
              "      --hover-bg-color: #434B5C;\n",
              "      --hover-fill-color: #FFFFFF;\n",
              "      --disabled-bg-color: #3B4455;\n",
              "      --disabled-fill-color: #666;\n",
              "  }\n",
              "\n",
              "  .colab-df-quickchart {\n",
              "    background-color: var(--bg-color);\n",
              "    border: none;\n",
              "    border-radius: 50%;\n",
              "    cursor: pointer;\n",
              "    display: none;\n",
              "    fill: var(--fill-color);\n",
              "    height: 32px;\n",
              "    padding: 0;\n",
              "    width: 32px;\n",
              "  }\n",
              "\n",
              "  .colab-df-quickchart:hover {\n",
              "    background-color: var(--hover-bg-color);\n",
              "    box-shadow: 0 1px 2px rgba(60, 64, 67, 0.3), 0 1px 3px 1px rgba(60, 64, 67, 0.15);\n",
              "    fill: var(--button-hover-fill-color);\n",
              "  }\n",
              "\n",
              "  .colab-df-quickchart-complete:disabled,\n",
              "  .colab-df-quickchart-complete:disabled:hover {\n",
              "    background-color: var(--disabled-bg-color);\n",
              "    fill: var(--disabled-fill-color);\n",
              "    box-shadow: none;\n",
              "  }\n",
              "\n",
              "  .colab-df-spinner {\n",
              "    border: 2px solid var(--fill-color);\n",
              "    border-color: transparent;\n",
              "    border-bottom-color: var(--fill-color);\n",
              "    animation:\n",
              "      spin 1s steps(1) infinite;\n",
              "  }\n",
              "\n",
              "  @keyframes spin {\n",
              "    0% {\n",
              "      border-color: transparent;\n",
              "      border-bottom-color: var(--fill-color);\n",
              "      border-left-color: var(--fill-color);\n",
              "    }\n",
              "    20% {\n",
              "      border-color: transparent;\n",
              "      border-left-color: var(--fill-color);\n",
              "      border-top-color: var(--fill-color);\n",
              "    }\n",
              "    30% {\n",
              "      border-color: transparent;\n",
              "      border-left-color: var(--fill-color);\n",
              "      border-top-color: var(--fill-color);\n",
              "      border-right-color: var(--fill-color);\n",
              "    }\n",
              "    40% {\n",
              "      border-color: transparent;\n",
              "      border-right-color: var(--fill-color);\n",
              "      border-top-color: var(--fill-color);\n",
              "    }\n",
              "    60% {\n",
              "      border-color: transparent;\n",
              "      border-right-color: var(--fill-color);\n",
              "    }\n",
              "    80% {\n",
              "      border-color: transparent;\n",
              "      border-right-color: var(--fill-color);\n",
              "      border-bottom-color: var(--fill-color);\n",
              "    }\n",
              "    90% {\n",
              "      border-color: transparent;\n",
              "      border-bottom-color: var(--fill-color);\n",
              "    }\n",
              "  }\n",
              "</style>\n",
              "\n",
              "  <script>\n",
              "    async function quickchart(key) {\n",
              "      const quickchartButtonEl =\n",
              "        document.querySelector('#' + key + ' button');\n",
              "      quickchartButtonEl.disabled = true;  // To prevent multiple clicks.\n",
              "      quickchartButtonEl.classList.add('colab-df-spinner');\n",
              "      try {\n",
              "        const charts = await google.colab.kernel.invokeFunction(\n",
              "            'suggestCharts', [key], {});\n",
              "      } catch (error) {\n",
              "        console.error('Error during call to suggestCharts:', error);\n",
              "      }\n",
              "      quickchartButtonEl.classList.remove('colab-df-spinner');\n",
              "      quickchartButtonEl.classList.add('colab-df-quickchart-complete');\n",
              "    }\n",
              "    (() => {\n",
              "      let quickchartButtonEl =\n",
              "        document.querySelector('#df-dc2e766a-6917-4726-92bd-071ff4ce8a58 button');\n",
              "      quickchartButtonEl.style.display =\n",
              "        google.colab.kernel.accessAllowed ? 'block' : 'none';\n",
              "    })();\n",
              "  </script>\n",
              "</div>\n",
              "\n",
              "    </div>\n",
              "  </div>\n"
            ],
            "application/vnd.google.colaboratory.intrinsic+json": {
              "type": "dataframe",
              "variable_name": "df"
            }
          },
          "metadata": {},
          "execution_count": 30
        }
      ]
    },
    {
      "cell_type": "code",
      "source": [
        "df.drop(columns=['id', 'Unnamed: 32'], inplace= True)"
      ],
      "metadata": {
        "id": "pA3j-QnBnBdF"
      },
      "execution_count": 31,
      "outputs": []
    },
    {
      "cell_type": "code",
      "source": [
        "# Perform train test split on the dataset\n",
        "X_train, X_test, y_train, y_test = train_test_split(df.iloc[:, 1:], df.iloc[:, 0], test_size=0.2)"
      ],
      "metadata": {
        "id": "cQTGa0JEnDJ6"
      },
      "execution_count": 33,
      "outputs": []
    },
    {
      "cell_type": "code",
      "source": [
        "# Standard scaler on input features\n",
        "scaler = StandardScaler()\n",
        "X_train = scaler.fit_transform(X_train)\n",
        "X_test = scaler.transform(X_test)"
      ],
      "metadata": {
        "id": "h45hTqX9nIku"
      },
      "execution_count": 34,
      "outputs": []
    },
    {
      "cell_type": "code",
      "source": [
        "# Label encoder on output features\n",
        "encoder = LabelEncoder()\n",
        "y_train = encoder.fit_transform(y_train)\n",
        "y_test = encoder.transform(y_test)"
      ],
      "metadata": {
        "id": "e-L6zbownM43"
      },
      "execution_count": 35,
      "outputs": []
    },
    {
      "cell_type": "code",
      "source": [
        "# Convert the numpy arrays into pytorch tensors\n",
        "X_train_tensor = torch.from_numpy(X_train.astype(np.float32))\n",
        "X_test_tensor = torch.from_numpy(X_test.astype(np.float32))\n",
        "y_train_tensor = torch.from_numpy(y_train.astype(np.float32))\n",
        "y_test_tensor = torch.from_numpy(y_test.astype(np.float32))"
      ],
      "metadata": {
        "id": "u1j83qcwnVPQ"
      },
      "execution_count": 36,
      "outputs": []
    },
    {
      "cell_type": "code",
      "source": [
        "len(X_train_tensor)"
      ],
      "metadata": {
        "colab": {
          "base_uri": "https://localhost:8080/"
        },
        "id": "lwX0GAmeni6V",
        "outputId": "aca6dbb6-01c8-45cc-a725-7614eb722689"
      },
      "execution_count": 43,
      "outputs": [
        {
          "output_type": "execute_result",
          "data": {
            "text/plain": [
              "455"
            ]
          },
          "metadata": {},
          "execution_count": 43
        }
      ]
    },
    {
      "cell_type": "code",
      "source": [],
      "metadata": {
        "id": "-4jgsS9fpUm_"
      },
      "execution_count": null,
      "outputs": []
    },
    {
      "cell_type": "markdown",
      "source": [
        "# Dataset class\n",
        "\n",
        "#### Creating a customdataset class with 3 key fxn defined"
      ],
      "metadata": {
        "id": "m6IhHw-snkKN"
      }
    },
    {
      "cell_type": "code",
      "source": [
        "class customdataset(Dataset):\n",
        "\n",
        "  def __init__(self,features,labels):   # Defines how to access and load the data\n",
        "    self.features = features\n",
        "    self.labels = labels\n",
        "\n",
        "  def __len__(self):\n",
        "    return self.features.shape[0]   # function that returns the total number of samples/rows in the dataste\n",
        "\n",
        "  def __getitem__(self,index):\n",
        "    return self.features[index],self.labels[index]  #Function that returns the features and lables for each index input index value"
      ],
      "metadata": {
        "id": "tC7My6Txnrtw"
      },
      "execution_count": 37,
      "outputs": []
    },
    {
      "cell_type": "code",
      "source": [
        "# Creating 2 objects of dataset class , one for training data and one for test data\n",
        "\n",
        "train_dataset = customdataset(X_train_tensor,y_train_tensor)   # train_dataset have all the training data (features and labels)\n",
        "test_dataset = customdataset(X_test_tensor,y_test_tensor)"
      ],
      "metadata": {
        "id": "9du2szqOoQgp"
      },
      "execution_count": 38,
      "outputs": []
    },
    {
      "cell_type": "code",
      "source": [
        "len(train_dataset)"
      ],
      "metadata": {
        "colab": {
          "base_uri": "https://localhost:8080/"
        },
        "id": "SImA-6QepKVO",
        "outputId": "d358a598-7687-4e3f-ae87-582ee7a95e1f"
      },
      "execution_count": 41,
      "outputs": [
        {
          "output_type": "execute_result",
          "data": {
            "text/plain": [
              "455"
            ]
          },
          "metadata": {},
          "execution_count": 41
        }
      ]
    },
    {
      "cell_type": "code",
      "source": [
        "len(test_dataset)"
      ],
      "metadata": {
        "colab": {
          "base_uri": "https://localhost:8080/"
        },
        "id": "5PGaPIWspNvL",
        "outputId": "256306a5-d988-457c-876c-12d60863702c"
      },
      "execution_count": 42,
      "outputs": [
        {
          "output_type": "execute_result",
          "data": {
            "text/plain": [
              "114"
            ]
          },
          "metadata": {},
          "execution_count": 42
        }
      ]
    },
    {
      "cell_type": "code",
      "source": [
        "train_dataset[0]"
      ],
      "metadata": {
        "colab": {
          "base_uri": "https://localhost:8080/"
        },
        "id": "8mbzADlepMNX",
        "outputId": "89dd3137-d452-41f0-af79-12765971c1cf"
      },
      "execution_count": 44,
      "outputs": [
        {
          "output_type": "execute_result",
          "data": {
            "text/plain": [
              "(tensor([ 1.0517, -2.0873,  1.2135,  0.9316,  1.5782,  3.2015,  2.5957,  2.4353,\n",
              "          2.2136,  2.3090,  2.3747, -0.5858,  2.6692,  2.3177, -0.2114,  1.3257,\n",
              "          0.8030,  0.6701,  1.1553,  0.9498,  1.8233, -1.3538,  2.2128,  1.9192,\n",
              "          1.3576,  2.6041,  2.0843,  2.2531,  2.8659,  2.0018]),\n",
              " tensor(1.))"
            ]
          },
          "metadata": {},
          "execution_count": 44
        }
      ]
    },
    {
      "cell_type": "code",
      "source": [],
      "metadata": {
        "id": "lehRHzttpfPd"
      },
      "execution_count": null,
      "outputs": []
    },
    {
      "cell_type": "markdown",
      "source": [
        "# Dataloader class"
      ],
      "metadata": {
        "id": "duvw_CMIp8m-"
      }
    },
    {
      "cell_type": "code",
      "source": [
        "train_loader = DataLoader(train_dataset,batch_size=32 , shuffle=True,num_workers=2)\n",
        "test_loader = DataLoader(test_dataset,batch_size=32 , shuffle=True,num_workers=2)"
      ],
      "metadata": {
        "id": "EXQ4aU1OqAa2"
      },
      "execution_count": 45,
      "outputs": []
    },
    {
      "cell_type": "markdown",
      "source": [
        "# Define the model"
      ],
      "metadata": {
        "id": "mKftsORmqryu"
      }
    },
    {
      "cell_type": "code",
      "source": [
        "class networkmodel(nn.Module):  # Must inherit the nn.Module class inorder to use \"nn module\"\n",
        "\n",
        "  def __init__(self,num_features):\n",
        "\n",
        "    super().__init__()   #----> invoking the parent class(nn.module) constructor using super keyword\n",
        "\n",
        "     # Creating a Sequential container for the neural n/w\n",
        "    self.network = nn.Sequential(\n",
        "        nn.Linear(num_features,30),   # (hidden layer) Accepts 2 paramaters , (numer_of_input_features , number_of_outputs)\n",
        "        nn.ReLU(),\n",
        "        nn.Linear(30,1),\n",
        "        nn.Sigmoid()\n",
        "    )\n",
        "\n",
        "  def forward(self,features):  # Function for forward propogation\n",
        "    return self.network(features)\n",
        "\n",
        "\n",
        ""
      ],
      "metadata": {
        "id": "Ktt1wnImqt5S"
      },
      "execution_count": 60,
      "outputs": []
    },
    {
      "cell_type": "code",
      "source": [],
      "metadata": {
        "id": "QXxYFxtKujRt"
      },
      "execution_count": null,
      "outputs": []
    },
    {
      "cell_type": "code",
      "source": [],
      "metadata": {
        "id": "x2CLffOJsSpX"
      },
      "execution_count": null,
      "outputs": []
    },
    {
      "cell_type": "markdown",
      "source": [
        "# Training pipeline"
      ],
      "metadata": {
        "id": "gyg1tkDXr8Zp"
      }
    },
    {
      "cell_type": "code",
      "source": [
        "# Define the loss function\n",
        "loss_function = nn.BCELoss()"
      ],
      "metadata": {
        "id": "e2anKGKhtENE"
      },
      "execution_count": 52,
      "outputs": []
    },
    {
      "cell_type": "code",
      "source": [],
      "metadata": {
        "id": "MqCU9Dl0tJ2y"
      },
      "execution_count": null,
      "outputs": []
    },
    {
      "cell_type": "code",
      "source": [
        "# Import paramaters:\n",
        "learning_rate = 0.1\n",
        "epochs = 10"
      ],
      "metadata": {
        "id": "ID1BHkoQr-oX"
      },
      "execution_count": 63,
      "outputs": []
    },
    {
      "cell_type": "code",
      "source": [
        "# Creating a model object\n",
        "model = networkmodel(X_train_tensor.shape[1])\n",
        "\n",
        "# Define the optimizer\n",
        "\n",
        "optimizer = torch.optim.SGD(model.parameters(),lr = learning_rate)\n",
        "\n",
        "# define outer loop for epoch iteration\n",
        "for epoch in range(epochs):\n",
        "\n",
        "  # define inner loop to iterate over the train data loader , to access and pass the batch_features and batch_labels for each batch\n",
        "  for batch_features , batch_labels in train_loader:\n",
        "\n",
        "    # forward pass\n",
        "    y_pred = model.forward(batch_features)\n",
        "\n",
        "    #Loss calculate\n",
        "    loss = loss_function(y_pred , batch_labels.reshape(-1,1))\n",
        "\n",
        "    # clear gradients\n",
        "    optimizer.zero_grad()\n",
        "\n",
        "    #backward pass / back propogation\n",
        "    loss.backward()\n",
        "\n",
        "    # update gradients\n",
        "    optimizer.step()\n",
        "\n",
        "    print(f'Epoch:{epoch+1}, loss: {loss.item()}')\n",
        "\n"
      ],
      "metadata": {
        "colab": {
          "base_uri": "https://localhost:8080/"
        },
        "id": "87RwgUodsEWw",
        "outputId": "8845d8f9-2a5b-4c64-cdd1-132c632b5080"
      },
      "execution_count": 64,
      "outputs": [
        {
          "output_type": "stream",
          "name": "stdout",
          "text": [
            "Epoch:1, loss: 0.6133289337158203\n",
            "Epoch:1, loss: 0.5482474565505981\n",
            "Epoch:1, loss: 0.5592692494392395\n",
            "Epoch:1, loss: 0.5260929465293884\n",
            "Epoch:1, loss: 0.4715842008590698\n",
            "Epoch:1, loss: 0.4952777624130249\n",
            "Epoch:1, loss: 0.45715945959091187\n",
            "Epoch:1, loss: 0.41361749172210693\n",
            "Epoch:1, loss: 0.4076111912727356\n",
            "Epoch:1, loss: 0.4544302225112915\n",
            "Epoch:1, loss: 0.3486791253089905\n",
            "Epoch:1, loss: 0.3049308657646179\n",
            "Epoch:1, loss: 0.32336246967315674\n",
            "Epoch:1, loss: 0.30613723397254944\n",
            "Epoch:1, loss: 0.3322587013244629\n",
            "Epoch:2, loss: 0.25715142488479614\n",
            "Epoch:2, loss: 0.2975161671638489\n",
            "Epoch:2, loss: 0.30338138341903687\n",
            "Epoch:2, loss: 0.2538467049598694\n",
            "Epoch:2, loss: 0.32458510994911194\n",
            "Epoch:2, loss: 0.25412803888320923\n",
            "Epoch:2, loss: 0.21338355541229248\n",
            "Epoch:2, loss: 0.2780938744544983\n",
            "Epoch:2, loss: 0.24925756454467773\n",
            "Epoch:2, loss: 0.22122666239738464\n",
            "Epoch:2, loss: 0.33935609459877014\n",
            "Epoch:2, loss: 0.18986845016479492\n",
            "Epoch:2, loss: 0.2453477382659912\n",
            "Epoch:2, loss: 0.17529286444187164\n",
            "Epoch:2, loss: 0.12884177267551422\n",
            "Epoch:3, loss: 0.12950335443019867\n",
            "Epoch:3, loss: 0.19583360850811005\n",
            "Epoch:3, loss: 0.23324771225452423\n",
            "Epoch:3, loss: 0.3439210057258606\n",
            "Epoch:3, loss: 0.11368120461702347\n",
            "Epoch:3, loss: 0.14186310768127441\n",
            "Epoch:3, loss: 0.26911112666130066\n",
            "Epoch:3, loss: 0.171534463763237\n",
            "Epoch:3, loss: 0.149801105260849\n",
            "Epoch:3, loss: 0.1224871426820755\n",
            "Epoch:3, loss: 0.2010289430618286\n",
            "Epoch:3, loss: 0.129439577460289\n",
            "Epoch:3, loss: 0.16363288462162018\n",
            "Epoch:3, loss: 0.17502614855766296\n",
            "Epoch:3, loss: 0.3670708239078522\n",
            "Epoch:4, loss: 0.1317901760339737\n",
            "Epoch:4, loss: 0.09509856253862381\n",
            "Epoch:4, loss: 0.19736061990261078\n",
            "Epoch:4, loss: 0.16589884459972382\n",
            "Epoch:4, loss: 0.26210761070251465\n",
            "Epoch:4, loss: 0.15923161804676056\n",
            "Epoch:4, loss: 0.11380760371685028\n",
            "Epoch:4, loss: 0.1503981649875641\n",
            "Epoch:4, loss: 0.20363803207874298\n",
            "Epoch:4, loss: 0.08192767202854156\n",
            "Epoch:4, loss: 0.15955638885498047\n",
            "Epoch:4, loss: 0.07275791466236115\n",
            "Epoch:4, loss: 0.12357405573129654\n",
            "Epoch:4, loss: 0.192886084318161\n",
            "Epoch:4, loss: 0.15657274425029755\n",
            "Epoch:5, loss: 0.09775221347808838\n",
            "Epoch:5, loss: 0.13773056864738464\n",
            "Epoch:5, loss: 0.2000391185283661\n",
            "Epoch:5, loss: 0.12177520245313644\n",
            "Epoch:5, loss: 0.14122119545936584\n",
            "Epoch:5, loss: 0.05863497778773308\n",
            "Epoch:5, loss: 0.15164758265018463\n",
            "Epoch:5, loss: 0.08611387014389038\n",
            "Epoch:5, loss: 0.17494426667690277\n",
            "Epoch:5, loss: 0.09708994626998901\n",
            "Epoch:5, loss: 0.15690001845359802\n",
            "Epoch:5, loss: 0.0866888016462326\n",
            "Epoch:5, loss: 0.04188891500234604\n",
            "Epoch:5, loss: 0.2789411246776581\n",
            "Epoch:5, loss: 0.12986047565937042\n",
            "Epoch:6, loss: 0.13991235196590424\n",
            "Epoch:6, loss: 0.11221996694803238\n",
            "Epoch:6, loss: 0.04382907599210739\n",
            "Epoch:6, loss: 0.14988139271736145\n",
            "Epoch:6, loss: 0.18856818974018097\n",
            "Epoch:6, loss: 0.08401466906070709\n",
            "Epoch:6, loss: 0.07518371194601059\n",
            "Epoch:6, loss: 0.14619946479797363\n",
            "Epoch:6, loss: 0.17739662528038025\n",
            "Epoch:6, loss: 0.0780114084482193\n",
            "Epoch:6, loss: 0.10046416521072388\n",
            "Epoch:6, loss: 0.09077770262956619\n",
            "Epoch:6, loss: 0.11662246286869049\n",
            "Epoch:6, loss: 0.14685754477977753\n",
            "Epoch:6, loss: 0.047754108905792236\n",
            "Epoch:7, loss: 0.183492049574852\n",
            "Epoch:7, loss: 0.1213587149977684\n",
            "Epoch:7, loss: 0.19251485168933868\n",
            "Epoch:7, loss: 0.10580970346927643\n",
            "Epoch:7, loss: 0.14543211460113525\n",
            "Epoch:7, loss: 0.13567210733890533\n",
            "Epoch:7, loss: 0.10468879342079163\n",
            "Epoch:7, loss: 0.04101712256669998\n",
            "Epoch:7, loss: 0.047746121883392334\n",
            "Epoch:7, loss: 0.08260996639728546\n",
            "Epoch:7, loss: 0.0573551282286644\n",
            "Epoch:7, loss: 0.09628716111183167\n",
            "Epoch:7, loss: 0.09615178406238556\n",
            "Epoch:7, loss: 0.07851919531822205\n",
            "Epoch:7, loss: 0.11636898666620255\n",
            "Epoch:8, loss: 0.14454172551631927\n",
            "Epoch:8, loss: 0.08278385549783707\n",
            "Epoch:8, loss: 0.05046260729432106\n",
            "Epoch:8, loss: 0.1662479043006897\n",
            "Epoch:8, loss: 0.17226743698120117\n",
            "Epoch:8, loss: 0.08240806311368942\n",
            "Epoch:8, loss: 0.24328938126564026\n",
            "Epoch:8, loss: 0.0666830837726593\n",
            "Epoch:8, loss: 0.05671549215912819\n",
            "Epoch:8, loss: 0.07982836663722992\n",
            "Epoch:8, loss: 0.07259871810674667\n",
            "Epoch:8, loss: 0.09450627118349075\n",
            "Epoch:8, loss: 0.052386436611413956\n",
            "Epoch:8, loss: 0.031025942414999008\n",
            "Epoch:8, loss: 0.04611872881650925\n",
            "Epoch:9, loss: 0.17589156329631805\n",
            "Epoch:9, loss: 0.035999372601509094\n",
            "Epoch:9, loss: 0.0897129699587822\n",
            "Epoch:9, loss: 0.10704219341278076\n",
            "Epoch:9, loss: 0.09636689722537994\n",
            "Epoch:9, loss: 0.1354398876428604\n",
            "Epoch:9, loss: 0.11203007400035858\n",
            "Epoch:9, loss: 0.12316460907459259\n",
            "Epoch:9, loss: 0.12581659853458405\n",
            "Epoch:9, loss: 0.040454622358083725\n",
            "Epoch:9, loss: 0.05666053295135498\n",
            "Epoch:9, loss: 0.039816927164793015\n",
            "Epoch:9, loss: 0.1597377210855484\n",
            "Epoch:9, loss: 0.02305562049150467\n",
            "Epoch:9, loss: 0.006629454903304577\n",
            "Epoch:10, loss: 0.1274208128452301\n",
            "Epoch:10, loss: 0.10871031135320663\n",
            "Epoch:10, loss: 0.07169999182224274\n",
            "Epoch:10, loss: 0.05032714828848839\n",
            "Epoch:10, loss: 0.13237734138965607\n",
            "Epoch:10, loss: 0.04924476146697998\n",
            "Epoch:10, loss: 0.042887236922979355\n",
            "Epoch:10, loss: 0.06539687514305115\n",
            "Epoch:10, loss: 0.061241280287504196\n",
            "Epoch:10, loss: 0.09880787879228592\n",
            "Epoch:10, loss: 0.13319465517997742\n",
            "Epoch:10, loss: 0.15869452059268951\n",
            "Epoch:10, loss: 0.07872303575277328\n",
            "Epoch:10, loss: 0.0655379518866539\n",
            "Epoch:10, loss: 0.060541946440935135\n"
          ]
        }
      ]
    },
    {
      "cell_type": "code",
      "source": [],
      "metadata": {
        "id": "ZDo-MT12vU8k"
      },
      "execution_count": null,
      "outputs": []
    },
    {
      "cell_type": "markdown",
      "source": [
        "# Evaluation"
      ],
      "metadata": {
        "id": "twmP_vorvVVN"
      }
    },
    {
      "cell_type": "code",
      "source": [
        "# Model evaluation using test_loader\n",
        "model.eval()  # Set the model to evaluation mode\n",
        "accuracy_list = []\n",
        "\n",
        "with torch.no_grad():\n",
        "    for batch_features, batch_labels in test_loader:\n",
        "        # Forward pass\n",
        "        y_pred = model(batch_features)\n",
        "        y_pred = (y_pred > 0.5).float()  # Convert probabilities to binary predictions\n",
        "\n",
        "        # Calculate accuracy for the current batch\n",
        "        batch_accuracy = (y_pred.view(-1) == batch_labels).float().mean().item()\n",
        "        accuracy_list.append(batch_accuracy)\n",
        "\n",
        "# Calculate overall accuracy\n",
        "overall_accuracy = sum(accuracy_list) / len(accuracy_list)\n",
        "print(f'Accuracy: {overall_accuracy:.4f}')\n"
      ],
      "metadata": {
        "colab": {
          "base_uri": "https://localhost:8080/"
        },
        "id": "MTxeR9PAvWlW",
        "outputId": "7730b5db-0bc9-4c31-8779-76198475c268"
      },
      "execution_count": 67,
      "outputs": [
        {
          "output_type": "stream",
          "name": "stdout",
          "text": [
            "Accuracy: 0.9783\n"
          ]
        }
      ]
    },
    {
      "cell_type": "code",
      "source": [],
      "metadata": {
        "id": "oVUY6bput-bU"
      },
      "execution_count": null,
      "outputs": []
    },
    {
      "cell_type": "code",
      "source": [],
      "metadata": {
        "id": "1mA3F0MOruER"
      },
      "execution_count": null,
      "outputs": []
    },
    {
      "cell_type": "code",
      "source": [],
      "metadata": {
        "id": "T913iZiKqSOA"
      },
      "execution_count": null,
      "outputs": []
    },
    {
      "cell_type": "code",
      "source": [],
      "metadata": {
        "id": "CPU3eQcQqQ_x"
      },
      "execution_count": null,
      "outputs": []
    },
    {
      "cell_type": "code",
      "source": [],
      "metadata": {
        "id": "dJfEiVqknE1Y"
      },
      "execution_count": null,
      "outputs": []
    }
  ]
}